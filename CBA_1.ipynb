{
 "cells": [
  {
   "cell_type": "code",
   "execution_count": 8,
   "metadata": {},
   "outputs": [
    {
     "name": "stdout",
     "output_type": "stream",
     "text": [
      "Defaulting to user installation because normal site-packages is not writeable\n",
      "Requirement already satisfied: xlrd in c:\\users\\agish\\appdata\\roaming\\python\\python311\\site-packages (2.0.1)\n",
      "Requirement already satisfied: openpyxl in c:\\programdata\\anaconda3\\lib\\site-packages (3.0.10)\n",
      "Requirement already satisfied: et_xmlfile in c:\\programdata\\anaconda3\\lib\\site-packages (from openpyxl) (1.1.0)\n",
      "Note: you may need to restart the kernel to use updated packages.\n"
     ]
    }
   ],
   "source": [
    "%pip install xlrd openpyxl"
   ]
  },
  {
   "cell_type": "code",
   "execution_count": 9,
   "metadata": {},
   "outputs": [
    {
     "name": "stdout",
     "output_type": "stream",
     "text": [
      "Converted Consumers surplus.xlsx to Consumers surplus.csvx\n",
      "Converted S00_Basis.xls to S00_Basis.csv\n",
      "Converted S01.XLS to S01.csv\n",
      "Converted S03.XLS to S03.csv\n",
      "Converted S09.XLS to S09.csv\n",
      "Converted S10.XLS to S10.csv\n",
      "Converted S11.XLS to S11.csv\n",
      "Converted S12.XLS to S12.csv\n",
      "Converted S13.XLS to S13.csv\n",
      "Converted S16.XLS to S16.csv\n",
      "Converted S18.XLS to S18.csv\n",
      "Converted S20.XLS to S20.csv\n",
      "Converted Unit prices.xlsx to Unit prices.csvx\n"
     ]
    },
    {
     "name": "stderr",
     "output_type": "stream",
     "text": [
      "c:\\ProgramData\\anaconda3\\Lib\\site-packages\\openpyxl\\worksheet\\header_footer.py:48: UserWarning: Cannot parse header or footer so it will be ignored\n",
      "  warn(\"\"\"Cannot parse header or footer so it will be ignored\"\"\")\n"
     ]
    }
   ],
   "source": [
    "import pandas as pd\n",
    "import os\n",
    "\n",
    "# Define the directory containing your XLS and XLSX files\n",
    "directory = r'C:\\Users\\agish\\Documents\\GitHub\\Decision Support\\ScenarioData'\n",
    "toSave = r'C:\\Users\\agish\\Documents\\GitHub\\Decision Support\\ScenarioDataCSV'\n",
    "\n",
    "# Create the output directory if it doesn't exist\n",
    "if not os.path.exists(toSave):\n",
    "    os.makedirs(toSave)\n",
    "\n",
    "# Loop through all files in the directory\n",
    "for filename in os.listdir(directory):\n",
    "    if filename.endswith(\".xls\") or filename.endswith(\".XLS\") or filename.endswith(\".xlsx\") or filename.endswith(\".XLSX\"):\n",
    "        # Construct the full file path\n",
    "        file_path = os.path.join(directory, filename)\n",
    "        \n",
    "        # Determine the engine based on the file extension\n",
    "        if filename.endswith(\".xls\") or filename.endswith(\".XLS\"):\n",
    "            engine = 'xlrd'  # Older format\n",
    "        else:\n",
    "            engine = 'openpyxl'  # Newer format\n",
    "        \n",
    "        # Read the Excel file into a pandas DataFrame\n",
    "        try:\n",
    "            xls = pd.read_excel(file_path, engine=engine)\n",
    "        except Exception as e:\n",
    "            print(f\"Error reading {filename}: {e}\")\n",
    "            continue\n",
    "\n",
    "        # Convert the filename to a .csv format\n",
    "        csv_filename = os.path.splitext(filename)[0] + \".csv\"\n",
    "\n",
    "        # Save the DataFrame to a CSV file\n",
    "        csv_path = os.path.join(toSave, csv_filename)\n",
    "        xls.to_csv(csv_path, index=False)\n",
    "\n",
    "        print(f\"Converted {filename} to {csv_filename}\")\n"
   ]
  }
 ],
 "metadata": {
  "kernelspec": {
   "display_name": "base",
   "language": "python",
   "name": "python3"
  },
  "language_info": {
   "codemirror_mode": {
    "name": "ipython",
    "version": 3
   },
   "file_extension": ".py",
   "mimetype": "text/x-python",
   "name": "python",
   "nbconvert_exporter": "python",
   "pygments_lexer": "ipython3",
   "version": "3.11.7"
  }
 },
 "nbformat": 4,
 "nbformat_minor": 2
}
