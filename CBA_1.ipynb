{
 "cells": [
  {
   "cell_type": "code",
   "execution_count": 3,
   "metadata": {},
   "outputs": [
    {
     "name": "stdout",
     "output_type": "stream",
     "text": [
      "Defaulting to user installation because normal site-packages is not writeable\n",
      "Collecting xlsxwriter\n",
      "  Downloading XlsxWriter-3.2.0-py3-none-any.whl.metadata (2.6 kB)\n",
      "Downloading XlsxWriter-3.2.0-py3-none-any.whl (159 kB)\n",
      "   ---------------------------------------- 0.0/159.9 kB ? eta -:--:--\n",
      "   -- ------------------------------------- 10.2/159.9 kB ? eta -:--:--\n",
      "   -- ------------------------------------- 10.2/159.9 kB ? eta -:--:--\n",
      "   ------- ------------------------------- 30.7/159.9 kB 262.6 kB/s eta 0:00:01\n",
      "   -------------- ------------------------ 61.4/159.9 kB 365.7 kB/s eta 0:00:01\n",
      "   ---------------------------------- --- 143.4/159.9 kB 711.9 kB/s eta 0:00:01\n",
      "   -------------------------------------- 159.9/159.9 kB 800.5 kB/s eta 0:00:00\n",
      "Installing collected packages: xlsxwriter\n",
      "Successfully installed xlsxwriter-3.2.0\n",
      "Note: you may need to restart the kernel to use updated packages.\n"
     ]
    }
   ],
   "source": [
    "# %pip install xlrd openpyxl\n",
    "# %pip install xlsxwriter\n"
   ]
  },
  {
   "cell_type": "code",
   "execution_count": 9,
   "metadata": {},
   "outputs": [
    {
     "name": "stdout",
     "output_type": "stream",
     "text": [
      "Converted Consumers surplus.xlsx to Consumers surplus.csvx\n",
      "Converted S00_Basis.xls to S00_Basis.csv\n",
      "Converted S01.XLS to S01.csv\n",
      "Converted S03.XLS to S03.csv\n",
      "Converted S09.XLS to S09.csv\n",
      "Converted S10.XLS to S10.csv\n",
      "Converted S11.XLS to S11.csv\n",
      "Converted S12.XLS to S12.csv\n",
      "Converted S13.XLS to S13.csv\n",
      "Converted S16.XLS to S16.csv\n",
      "Converted S18.XLS to S18.csv\n",
      "Converted S20.XLS to S20.csv\n",
      "Converted Unit prices.xlsx to Unit prices.csvx\n"
     ]
    },
    {
     "name": "stderr",
     "output_type": "stream",
     "text": [
      "c:\\ProgramData\\anaconda3\\Lib\\site-packages\\openpyxl\\worksheet\\header_footer.py:48: UserWarning: Cannot parse header or footer so it will be ignored\n",
      "  warn(\"\"\"Cannot parse header or footer so it will be ignored\"\"\")\n"
     ]
    }
   ],
   "source": [
    "import pandas as pd\n",
    "import os\n",
    "\n",
    "# Define the directory containing your XLS and XLSX files\n",
    "directory = r'C:\\Users\\agish\\Documents\\GitHub\\Decision Support\\ScenarioData'\n",
    "toSave = r'C:\\Users\\agish\\Documents\\GitHub\\Decision Support\\ScenarioDataCSV'\n",
    "\n",
    "# Create the output directory if it doesn't exist\n",
    "if not os.path.exists(toSave):\n",
    "    os.makedirs(toSave)\n",
    "\n",
    "# Loop through all files in the directory\n",
    "for filename in os.listdir(directory):\n",
    "    if filename.endswith(\".xls\") or filename.endswith(\".XLS\") or filename.endswith(\".xlsx\") or filename.endswith(\".XLSX\"):\n",
    "        # Construct the full file path\n",
    "        file_path = os.path.join(directory, filename)\n",
    "        \n",
    "        # Determine the engine based on the file extension\n",
    "        if filename.endswith(\".xls\") or filename.endswith(\".XLS\"):\n",
    "            engine = 'xlrd'  # Older format\n",
    "        else:\n",
    "            engine = 'openpyxl'  # Newer format\n",
    "        \n",
    "        # Read the Excel file into a pandas DataFrame\n",
    "        try:\n",
    "            xls = pd.read_excel(file_path, engine=engine)\n",
    "        except Exception as e:\n",
    "            print(f\"Error reading {filename}: {e}\")\n",
    "            continue\n",
    "\n",
    "        # Convert the filename to a .csv format\n",
    "        csv_filename = os.path.splitext(filename)[0] + \".csv\"\n",
    "\n",
    "        # Save the DataFrame to a CSV file\n",
    "        csv_path = os.path.join(toSave, csv_filename)\n",
    "        xls.to_csv(csv_path, index=False)\n",
    "\n",
    "        print(f\"Converted {filename} to {csv_filename}\")\n"
   ]
  },
  {
   "cell_type": "markdown",
   "metadata": {},
   "source": [
    "# Impact Calculations"
   ]
  },
  {
   "cell_type": "code",
   "execution_count": 6,
   "metadata": {},
   "outputs": [
    {
     "name": "stdout",
     "output_type": "stream",
     "text": [
      "Processed and saved differences for S01.csv as S01\n",
      "Processed and saved differences for S03.csv as S03\n",
      "Processed and saved differences for S09.csv as S09\n",
      "Processed and saved differences for S10.csv as S10\n",
      "Processed and saved differences for S11.csv as S11\n",
      "Processed and saved differences for S12.csv as S12\n",
      "Processed and saved differences for S13.csv as S13\n",
      "Processed and saved differences for S16.csv as S16\n",
      "Processed and saved differences for S18.csv as S18\n",
      "Processed and saved differences for S20.csv as S20\n",
      "All scenario comparisons saved to C:\\Users\\agish\\Documents\\GitHub\\Decision Support\\ImpactRAW.xlsx\n"
     ]
    }
   ],
   "source": [
    "import pandas as pd\n",
    "import os\n",
    "\n",
    "# Define the directory containing your CSV files\n",
    "directory = r'C:\\Users\\agish\\Documents\\GitHub\\Decision Support\\ScenarioDataCSV'\n",
    "output_file = r'C:\\Users\\agish\\Documents\\GitHub\\Decision Support\\ImpactRAW.xlsx'\n",
    "\n",
    "# Load the baseline data (S00_Basis.csv)\n",
    "baseline_file = os.path.join(directory, 'S00_Basis.csv')\n",
    "baseline_data = pd.read_csv(baseline_file)\n",
    "\n",
    "# Ensure the baseline data is indexed by the country code for proper matching\n",
    "baseline_data.set_index('CountryCode', inplace=True)\n",
    "\n",
    "# Initialize a writer to save all scenario comparisons in one Excel file\n",
    "with pd.ExcelWriter(output_file, engine='xlsxwriter') as writer:\n",
    "    # Loop through all files in the directory\n",
    "    for filename in os.listdir(directory):\n",
    "        if filename.startswith(\"S\") and filename != \"S00_Basis.csv\" and filename.endswith(\".csv\"):\n",
    "            # Construct the full file path for the scenario\n",
    "            scenario_file = os.path.join(directory, filename)\n",
    "\n",
    "            # Load the scenario data\n",
    "            scenario_data = pd.read_csv(scenario_file)\n",
    "\n",
    "            # Ensure the scenario data is also indexed by the country code for proper matching\n",
    "            scenario_data.set_index('CountryCode', inplace=True)\n",
    "\n",
    "            # Compute the differences by subtracting the baseline from the scenario for matching countries\n",
    "            # Only perform the operation on numerical columns\n",
    "            diff_data = scenario_data - baseline_data\n",
    "\n",
    "            # Reset index for saving to Excel\n",
    "            diff_data.reset_index(inplace=True)\n",
    "\n",
    "            # Name the sheet based on the scenario file (e.g., \"S01\")\n",
    "            sheet_name = os.path.splitext(filename)[0]\n",
    "\n",
    "            # Save the differences dataframe to a sheet in the Excel file\n",
    "            diff_data.to_excel(writer, sheet_name=sheet_name, index=False)\n",
    "\n",
    "            print(f\"Processed and saved differences for {filename} as {sheet_name}\")\n",
    "\n",
    "print(f\"All scenario comparisons saved to {output_file}\")\n"
   ]
  },
  {
   "cell_type": "code",
   "execution_count": null,
   "metadata": {},
   "outputs": [],
   "source": []
  }
 ],
 "metadata": {
  "kernelspec": {
   "display_name": "base",
   "language": "python",
   "name": "python3"
  },
  "language_info": {
   "codemirror_mode": {
    "name": "ipython",
    "version": 3
   },
   "file_extension": ".py",
   "mimetype": "text/x-python",
   "name": "python",
   "nbconvert_exporter": "python",
   "pygments_lexer": "ipython3",
   "version": "3.11.7"
  }
 },
 "nbformat": 4,
 "nbformat_minor": 2
}
